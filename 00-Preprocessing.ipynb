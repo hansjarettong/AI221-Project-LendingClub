{
 "cells": [
  {
   "cell_type": "code",
   "execution_count": 8,
   "metadata": {},
   "outputs": [],
   "source": [
    "import pandas as pd\n",
    "import numpy as np\n",
    "import matplotlib.pyplot as plt"
   ]
  },
  {
   "cell_type": "code",
   "execution_count": 2,
   "metadata": {},
   "outputs": [
    {
     "name": "stderr",
     "output_type": "stream",
     "text": [
      "C:\\Users\\Hans\\AppData\\Roaming\\Python\\Python37\\site-packages\\IPython\\core\\interactiveshell.py:3553: DtypeWarning: Columns (1,48,58,117,127,128,129,132,133,134,137) have mixed types.Specify dtype option on import or set low_memory=False.\n",
      "  exec(code_obj, self.user_global_ns, self.user_ns)\n"
     ]
    }
   ],
   "source": [
    "accepted_df = pd.read_csv(\"data/accepted_2007_to_2020.csv\", index_col=0)\n",
    "# rejected_df = pd.read_csv(\"data/rejected_2007_to_2018Q4.csv\")"
   ]
  },
  {
   "attachments": {},
   "cell_type": "markdown",
   "metadata": {},
   "source": [
    "# Accepted Loans"
   ]
  },
  {
   "attachments": {},
   "cell_type": "markdown",
   "metadata": {},
   "source": [
    "Note: Looking at columns with the same number of nulls gives us an idea of which variables were \"generated\" together."
   ]
  },
  {
   "cell_type": "code",
   "execution_count": 23,
   "metadata": {},
   "outputs": [],
   "source": [
    "accepted_df = accepted_df[~accepted_df.loan_amnt.isna()]"
   ]
  },
  {
   "cell_type": "code",
   "execution_count": 110,
   "metadata": {},
   "outputs": [],
   "source": [
    "df = accepted_df.set_index(\"id\")\n",
    "\n",
    "# Handle missing values\n",
    "df.dropna(\n",
    "    axis=1, thresh=len(df) * 0.9, inplace=True\n",
    ")  # Drop columns with more than 90% missing values\n",
    "df.dropna(inplace=True)  # Drop rows with any missing values\n",
    "\n",
    "# Feature engineering\n",
    "df[\"issue_d\"] = pd.to_datetime(df[\"issue_d\"])  # Convert issue date to datetime\n",
    "df[\"year\"] = df[\"issue_d\"].dt.year  # Extract year from issue date\n",
    "df[\"month\"] = df[\"issue_d\"].dt.month  # Extract month from issue date\n",
    "\n",
    "\n",
    "# Convert int_rate to numerical\n",
    "df[\"int_rate\"] = df[\"int_rate\"].str.rstrip(\"%\").astype(\"float\") / 100.0\n",
    "df[\"term\"] = df[\"term\"].apply(lambda x: int(x.split()[0]))\n",
    "df[\"emp_length\"] = df[\"emp_length\"].str.extract(r\"(\\d+)\")\n",
    "df[\"emp_length\"] = pd.to_numeric(df[\"emp_length\"], errors=\"coerce\")\n",
    "# Feature engineering - Extract year and month from issue date\n",
    "df[\"issue_d\"] = pd.to_datetime(df[\"issue_d\"])\n",
    "df[\"issue_year\"] = df[\"issue_d\"].dt.year\n",
    "\n",
    "# Calculate credit history length\n",
    "df[\"earliest_cr_line\"] = pd.to_datetime(df[\"earliest_cr_line\"])\n",
    "df[\"credit_history_length\"] = df[\"issue_year\"] - df[\"earliest_cr_line\"].dt.year\n",
    "# Convert revol_util to numeric\n",
    "df[\"revol_util\"] = df[\"revol_util\"].str.rstrip(\"%\").astype(\"float\") / 100.0\n",
    "\n",
    "# Calculate the difference between last payment and issue date in years\n",
    "df[\"last_pymnt_d\"] = pd.to_datetime(df[\"last_pymnt_d\"])\n",
    "df[\"last_pymnt_issue_diff\"] = (df[\"last_pymnt_d\"] - df[\"issue_d\"]).dt.days // 365\n",
    "\n",
    "# Calculate the difference between last credit pull and issue date in years\n",
    "df[\"last_credit_pull_d\"] = pd.to_datetime(df[\"last_credit_pull_d\"])\n",
    "df[\"last_credit_pull_issue_diff\"] = (\n",
    "    df[\"last_credit_pull_d\"] - df[\"issue_d\"]\n",
    ").dt.days // 365\n",
    "\n",
    "# Convert \"debt_settlement_flag\" and \"hardship_flag\" to numeric\n",
    "df[\"debt_settlement_flag\"] = (df[\"debt_settlement_flag\"] == \"Y\").astype(int)\n",
    "df[\"hardship_flag\"] = (df[\"hardship_flag\"] == \"Y\").astype(int)\n",
    "\n",
    "\n",
    "# I made issue year categorical to capture trends, e.g. loans back in 2008 might behave differently compared to loans in 2020.\n",
    "categorical_cols = [\n",
    "    \"grade\",\n",
    "    \"sub_grade\",\n",
    "    \"home_ownership\",\n",
    "    \"verification_status\",\n",
    "    \"purpose\",\n",
    "    \"addr_state\",\n",
    "    \"initial_list_status\",\n",
    "    \"loan_status\",\n",
    "    \"issue_year\",\n",
    "    \"application_type\",\n",
    "]\n",
    "df = pd.get_dummies(df, columns=categorical_cols)\n",
    "\n",
    "\n",
    "columns_to_drop = [\n",
    "    \"emp_title\",\n",
    "    \"url\",\n",
    "    \"title\",\n",
    "    \"zip_code\",\n",
    "    \"issue_d\",\n",
    "    \"last_pymnt_d\",\n",
    "    \"last_credit_pull_d\",\n",
    "    \"pymnt_plan\",\n",
    "    \"earliest_cr_line\",\n",
    "]\n",
    "df.drop(columns=columns_to_drop, inplace=True)"
   ]
  },
  {
   "cell_type": "code",
   "execution_count": 109,
   "metadata": {},
   "outputs": [
    {
     "data": {
      "text/plain": [
       "N    2321893\n",
       "Y      41304\n",
       "Name: debt_settlement_flag, dtype: int64"
      ]
     },
     "execution_count": 109,
     "metadata": {},
     "output_type": "execute_result"
    }
   ],
   "source": [
    "# check that everything is numeric\n",
    "df.dtypes.value_counts()"
   ]
  },
  {
   "cell_type": "code",
   "execution_count": 112,
   "metadata": {},
   "outputs": [
    {
     "data": {
      "text/plain": [
       "0    214\n",
       "dtype: int64"
      ]
     },
     "execution_count": 112,
     "metadata": {},
     "output_type": "execute_result"
    }
   ],
   "source": [
    "# check that there are no null values\n",
    "df.isna().sum().value_counts()"
   ]
  },
  {
   "cell_type": "code",
   "execution_count": 113,
   "metadata": {},
   "outputs": [
    {
     "data": {
      "text/plain": [
       "(2363197, 214)"
      ]
     },
     "execution_count": 113,
     "metadata": {},
     "output_type": "execute_result"
    }
   ],
   "source": [
    "df.shape"
   ]
  },
  {
   "cell_type": "code",
   "execution_count": 117,
   "metadata": {},
   "outputs": [],
   "source": [
    "df.to_pickle(\"data/preprocessed_df.pickle\")"
   ]
  },
  {
   "cell_type": "code",
   "execution_count": null,
   "metadata": {},
   "outputs": [],
   "source": []
  }
 ],
 "metadata": {
  "kernelspec": {
   "display_name": "Python 3",
   "language": "python",
   "name": "python3"
  },
  "language_info": {
   "codemirror_mode": {
    "name": "ipython",
    "version": 3
   },
   "file_extension": ".py",
   "mimetype": "text/x-python",
   "name": "python",
   "nbconvert_exporter": "python",
   "pygments_lexer": "ipython3",
   "version": "3.7.8"
  },
  "orig_nbformat": 4
 },
 "nbformat": 4,
 "nbformat_minor": 2
}
