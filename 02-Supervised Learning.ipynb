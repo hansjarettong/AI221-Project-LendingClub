{
 "cells": [
  {
   "cell_type": "code",
   "execution_count": 1,
   "id": "4ee4b5f4",
   "metadata": {},
   "outputs": [],
   "source": [
    "import pandas as pd\n",
    "import numpy as np\n",
    "\n",
    "from pycaret.classification import *"
   ]
  },
  {
   "cell_type": "code",
   "execution_count": 2,
   "id": "9831711d",
   "metadata": {},
   "outputs": [],
   "source": [
    "# Bug with latest version of pycaret - need to revert to old version of sklearn\n",
    "#!pip install --user --force-reinstall scikit-learn==1.2.1"
   ]
  },
  {
   "cell_type": "code",
   "execution_count": 2,
   "id": "d388834e",
   "metadata": {},
   "outputs": [],
   "source": [
    "raw_df = pd.read_csv(\"./Loan_status_2007-2020Q3.gzip\", compression=None, low_memory=False)"
   ]
  },
  {
   "cell_type": "markdown",
   "id": "183b8938",
   "metadata": {},
   "source": [
    "### I. Preprocessing Step"
   ]
  },
  {
   "cell_type": "code",
   "execution_count": 3,
   "id": "a303e94e",
   "metadata": {},
   "outputs": [],
   "source": [
    "accepted_df = raw_df[~raw_df.loan_amnt.isna()]"
   ]
  },
  {
   "cell_type": "code",
   "execution_count": 4,
   "id": "ad9cb3a3",
   "metadata": {},
   "outputs": [],
   "source": [
    "df = accepted_df.copy()"
   ]
  },
  {
   "cell_type": "code",
   "execution_count": 5,
   "id": "788131c0",
   "metadata": {},
   "outputs": [],
   "source": [
    "# Drop columns with more than 90% missing values\n",
    "df.dropna(axis=1, thresh=len(df) * 0.9, inplace=True)\n",
    "\n",
    "# Drop rows with any missing values\n",
    "df.dropna(inplace=True)  "
   ]
  },
  {
   "cell_type": "code",
   "execution_count": 6,
   "id": "24103a3f",
   "metadata": {},
   "outputs": [],
   "source": [
    "# Interest Rate\n",
    "df[\"int_rate\"] = df[\"int_rate\"].str.rstrip(\"%\").astype(\"float\") / 100.0\n",
    "\n",
    "# Employment Length\n",
    "df[\"emp_length\"] = df[\"emp_length\"].str.extract(r\"(\\d+)\")\n",
    "df[\"emp_length\"] = pd.to_numeric(df[\"emp_length\"], errors=\"coerce\")"
   ]
  },
  {
   "cell_type": "code",
   "execution_count": 7,
   "id": "cd7a82ec",
   "metadata": {},
   "outputs": [],
   "source": [
    "# Application Purpose\n",
    "df[\"purpose\"] = df[\"purpose\"].str.replace(\"_\", \" \")\n",
    "df[\"purpose\"] = df[\"purpose\"].str.title()"
   ]
  },
  {
   "cell_type": "code",
   "execution_count": 8,
   "id": "d85cc8f2",
   "metadata": {},
   "outputs": [],
   "source": [
    "# Application Purpose\n",
    "df[\"purpose\"] = np.where(df[\"purpose\"] == \"Car\", \"Major Purchase\", df[\"purpose\"])\n",
    "df[\"purpose\"] = np.where(df[\"purpose\"] == \"Vacation\", \"Major Purchase\", df[\"purpose\"])\n",
    "df[\"purpose\"] = np.where(df[\"purpose\"] == \"Small Business\", \"Major Purchase\", df[\"purpose\"])\n",
    "df[\"purpose\"] = np.where(df[\"purpose\"] == \"Wedding\", \"Major Purchase\", df[\"purpose\"])\n",
    "df[\"purpose\"] = np.where(df[\"purpose\"] == \"Moving\", \"Other\", df[\"purpose\"])\n",
    "df[\"purpose\"] = np.where(df[\"purpose\"] == \"House\", \"Other\", df[\"purpose\"])\n",
    "df[\"purpose\"] = np.where(df[\"purpose\"] == \"House\", \"Other\", df[\"purpose\"])\n",
    "df[\"purpose\"] = np.where(df[\"purpose\"] == \"Educational\", \"Other\", df[\"purpose\"])\n",
    "df[\"purpose\"] = np.where(df[\"purpose\"] == \"Renewable Energy\", \"Other\", df[\"purpose\"])\n",
    "df[\"purpose\"] = np.where(df[\"purpose\"] == \"Medical\", \"Other\", df[\"purpose\"])"
   ]
  },
  {
   "cell_type": "code",
   "execution_count": 9,
   "id": "6ed6b98e",
   "metadata": {},
   "outputs": [],
   "source": [
    "# Grade\n",
    "df[\"grade\"] = np.where(df[\"grade\"] == \"D\", \"D and Below\", df[\"grade\"])\n",
    "df[\"grade\"] = np.where(df[\"grade\"] == \"E\", \"D and Below\", df[\"grade\"])\n",
    "df[\"grade\"] = np.where(df[\"grade\"] == \"F\", \"D and Below\", df[\"grade\"])\n",
    "df[\"grade\"] = np.where(df[\"grade\"] == \"G\", \"D and Below\", df[\"grade\"])"
   ]
  },
  {
   "cell_type": "code",
   "execution_count": 10,
   "id": "423b457c",
   "metadata": {},
   "outputs": [],
   "source": [
    "# Home Ownership Type\n",
    "df[\"home_ownership\"] = np.where(df[\"home_ownership\"] == \"ANY\", \"OTHER\", df[\"home_ownership\"])\n",
    "df[\"home_ownership\"] = np.where(df[\"home_ownership\"] == \"NONE\", \"OTHER\", df[\"home_ownership\"])"
   ]
  },
  {
   "cell_type": "markdown",
   "id": "5969c33f",
   "metadata": {},
   "source": [
    "### II. Supervised Learning - Set Up"
   ]
  },
  {
   "cell_type": "code",
   "execution_count": 11,
   "id": "cfe6b974",
   "metadata": {},
   "outputs": [],
   "source": [
    "# Target: Delinquent in last 2 years (flag)\n",
    "df[\"flag_delinq2yrs\"] = np.where(df[\"delinq_2yrs\"] == 0, 0, 1)"
   ]
  },
  {
   "cell_type": "code",
   "execution_count": 12,
   "id": "8afa8037",
   "metadata": {},
   "outputs": [],
   "source": [
    "supervised_features = [\n",
    "    \"loan_amnt\", \n",
    "    \"term\", \n",
    "    \"int_rate\", \n",
    "    \"grade\", \n",
    "    \"home_ownership\", \n",
    "    \"annual_inc\", \n",
    "    \"purpose\", \n",
    "    \"emp_length\", \n",
    "    \"flag_delinq2yrs\"\n",
    "]"
   ]
  },
  {
   "cell_type": "code",
   "execution_count": 13,
   "id": "ba24cb07",
   "metadata": {},
   "outputs": [],
   "source": [
    "df_fit = df[supervised_features]"
   ]
  },
  {
   "cell_type": "code",
   "execution_count": 14,
   "id": "247fb853",
   "metadata": {},
   "outputs": [],
   "source": [
    "# home_ownership = \"OTHER\" is 0.1%\n",
    "df_fit = df_fit[df_fit[\"home_ownership\"] != \"OTHER\"]"
   ]
  },
  {
   "cell_type": "code",
   "execution_count": 15,
   "id": "a8ca6ea8",
   "metadata": {},
   "outputs": [
    {
     "data": {
      "text/html": [
       "<div>\n",
       "<style scoped>\n",
       "    .dataframe tbody tr th:only-of-type {\n",
       "        vertical-align: middle;\n",
       "    }\n",
       "\n",
       "    .dataframe tbody tr th {\n",
       "        vertical-align: top;\n",
       "    }\n",
       "\n",
       "    .dataframe thead th {\n",
       "        text-align: right;\n",
       "    }\n",
       "</style>\n",
       "<table border=\"1\" class=\"dataframe\">\n",
       "  <thead>\n",
       "    <tr style=\"text-align: right;\">\n",
       "      <th></th>\n",
       "      <th>loan_amnt</th>\n",
       "      <th>term</th>\n",
       "      <th>int_rate</th>\n",
       "      <th>grade</th>\n",
       "      <th>home_ownership</th>\n",
       "      <th>annual_inc</th>\n",
       "      <th>purpose</th>\n",
       "      <th>emp_length</th>\n",
       "      <th>flag_delinq2yrs</th>\n",
       "    </tr>\n",
       "  </thead>\n",
       "  <tbody>\n",
       "    <tr>\n",
       "      <th>42537</th>\n",
       "      <td>4800.0</td>\n",
       "      <td>36 months</td>\n",
       "      <td>0.1099</td>\n",
       "      <td>B</td>\n",
       "      <td>MORTGAGE</td>\n",
       "      <td>39600.0</td>\n",
       "      <td>Home Improvement</td>\n",
       "      <td>2</td>\n",
       "      <td>0</td>\n",
       "    </tr>\n",
       "    <tr>\n",
       "      <th>42538</th>\n",
       "      <td>27050.0</td>\n",
       "      <td>36 months</td>\n",
       "      <td>0.1099</td>\n",
       "      <td>B</td>\n",
       "      <td>OWN</td>\n",
       "      <td>55000.0</td>\n",
       "      <td>Debt Consolidation</td>\n",
       "      <td>10</td>\n",
       "      <td>0</td>\n",
       "    </tr>\n",
       "    <tr>\n",
       "      <th>42539</th>\n",
       "      <td>12000.0</td>\n",
       "      <td>36 months</td>\n",
       "      <td>0.0762</td>\n",
       "      <td>A</td>\n",
       "      <td>MORTGAGE</td>\n",
       "      <td>96500.0</td>\n",
       "      <td>Debt Consolidation</td>\n",
       "      <td>3</td>\n",
       "      <td>0</td>\n",
       "    </tr>\n",
       "    <tr>\n",
       "      <th>42540</th>\n",
       "      <td>14000.0</td>\n",
       "      <td>36 months</td>\n",
       "      <td>0.1285</td>\n",
       "      <td>B</td>\n",
       "      <td>RENT</td>\n",
       "      <td>88000.0</td>\n",
       "      <td>Debt Consolidation</td>\n",
       "      <td>4</td>\n",
       "      <td>1</td>\n",
       "    </tr>\n",
       "    <tr>\n",
       "      <th>42541</th>\n",
       "      <td>12000.0</td>\n",
       "      <td>36 months</td>\n",
       "      <td>0.0662</td>\n",
       "      <td>A</td>\n",
       "      <td>MORTGAGE</td>\n",
       "      <td>105000.0</td>\n",
       "      <td>Debt Consolidation</td>\n",
       "      <td>10</td>\n",
       "      <td>0</td>\n",
       "    </tr>\n",
       "  </tbody>\n",
       "</table>\n",
       "</div>"
      ],
      "text/plain": [
       "       loan_amnt        term  int_rate grade home_ownership  annual_inc  \\\n",
       "42537     4800.0   36 months    0.1099     B       MORTGAGE     39600.0   \n",
       "42538    27050.0   36 months    0.1099     B            OWN     55000.0   \n",
       "42539    12000.0   36 months    0.0762     A       MORTGAGE     96500.0   \n",
       "42540    14000.0   36 months    0.1285     B           RENT     88000.0   \n",
       "42541    12000.0   36 months    0.0662     A       MORTGAGE    105000.0   \n",
       "\n",
       "                  purpose  emp_length  flag_delinq2yrs  \n",
       "42537    Home Improvement           2                0  \n",
       "42538  Debt Consolidation          10                0  \n",
       "42539  Debt Consolidation           3                0  \n",
       "42540  Debt Consolidation           4                1  \n",
       "42541  Debt Consolidation          10                0  "
      ]
     },
     "execution_count": 15,
     "metadata": {},
     "output_type": "execute_result"
    }
   ],
   "source": [
    "df_fit.head()"
   ]
  },
  {
   "cell_type": "code",
   "execution_count": 24,
   "id": "ff83c032",
   "metadata": {},
   "outputs": [
    {
     "data": {
      "text/html": [
       "<div>\n",
       "<style scoped>\n",
       "    .dataframe tbody tr th:only-of-type {\n",
       "        vertical-align: middle;\n",
       "    }\n",
       "\n",
       "    .dataframe tbody tr th {\n",
       "        vertical-align: top;\n",
       "    }\n",
       "\n",
       "    .dataframe thead th {\n",
       "        text-align: right;\n",
       "    }\n",
       "</style>\n",
       "<table border=\"1\" class=\"dataframe\">\n",
       "  <thead>\n",
       "    <tr style=\"text-align: right;\">\n",
       "      <th></th>\n",
       "      <th>loan_amnt</th>\n",
       "      <th>term</th>\n",
       "      <th>int_rate</th>\n",
       "      <th>grade_C</th>\n",
       "      <th>grade_D and Below</th>\n",
       "      <th>grade_A</th>\n",
       "      <th>grade_B</th>\n",
       "      <th>home_ownership_OWN</th>\n",
       "      <th>home_ownership_MORTGAGE</th>\n",
       "      <th>home_ownership_RENT</th>\n",
       "      <th>annual_inc</th>\n",
       "      <th>purpose_Debt Consolidation</th>\n",
       "      <th>purpose_Credit Card</th>\n",
       "      <th>purpose_Home Improvement</th>\n",
       "      <th>purpose_Other</th>\n",
       "      <th>purpose_Major Purchase</th>\n",
       "      <th>emp_length</th>\n",
       "    </tr>\n",
       "  </thead>\n",
       "  <tbody>\n",
       "    <tr>\n",
       "      <th>2811302</th>\n",
       "      <td>0.548718</td>\n",
       "      <td>0.000000</td>\n",
       "      <td>0.376947</td>\n",
       "      <td>1.00000</td>\n",
       "      <td>0.0</td>\n",
       "      <td>0.0</td>\n",
       "      <td>0.00000</td>\n",
       "      <td>1.00000</td>\n",
       "      <td>0.00000</td>\n",
       "      <td>0.0</td>\n",
       "      <td>0.011364</td>\n",
       "      <td>1.0</td>\n",
       "      <td>0.000000</td>\n",
       "      <td>0.000000</td>\n",
       "      <td>0.000000</td>\n",
       "      <td>0.0</td>\n",
       "      <td>0.000000</td>\n",
       "    </tr>\n",
       "    <tr>\n",
       "      <th>2096270</th>\n",
       "      <td>0.247436</td>\n",
       "      <td>0.000000</td>\n",
       "      <td>0.454829</td>\n",
       "      <td>0.00000</td>\n",
       "      <td>1.0</td>\n",
       "      <td>0.0</td>\n",
       "      <td>0.00000</td>\n",
       "      <td>0.00000</td>\n",
       "      <td>1.00000</td>\n",
       "      <td>0.0</td>\n",
       "      <td>0.004728</td>\n",
       "      <td>1.0</td>\n",
       "      <td>0.000000</td>\n",
       "      <td>0.000000</td>\n",
       "      <td>0.000000</td>\n",
       "      <td>0.0</td>\n",
       "      <td>0.000000</td>\n",
       "    </tr>\n",
       "    <tr>\n",
       "      <th>96814</th>\n",
       "      <td>0.102564</td>\n",
       "      <td>0.000000</td>\n",
       "      <td>0.385903</td>\n",
       "      <td>1.00000</td>\n",
       "      <td>0.0</td>\n",
       "      <td>0.0</td>\n",
       "      <td>0.00000</td>\n",
       "      <td>0.00000</td>\n",
       "      <td>1.00000</td>\n",
       "      <td>0.0</td>\n",
       "      <td>0.009364</td>\n",
       "      <td>1.0</td>\n",
       "      <td>0.000000</td>\n",
       "      <td>0.000000</td>\n",
       "      <td>0.000000</td>\n",
       "      <td>0.0</td>\n",
       "      <td>0.111111</td>\n",
       "    </tr>\n",
       "    <tr>\n",
       "      <th>1810677</th>\n",
       "      <td>0.435897</td>\n",
       "      <td>0.000000</td>\n",
       "      <td>0.087617</td>\n",
       "      <td>0.00000</td>\n",
       "      <td>0.0</td>\n",
       "      <td>1.0</td>\n",
       "      <td>0.00000</td>\n",
       "      <td>0.00000</td>\n",
       "      <td>1.00000</td>\n",
       "      <td>0.0</td>\n",
       "      <td>0.007728</td>\n",
       "      <td>0.0</td>\n",
       "      <td>1.000000</td>\n",
       "      <td>0.000000</td>\n",
       "      <td>0.000000</td>\n",
       "      <td>0.0</td>\n",
       "      <td>1.000000</td>\n",
       "    </tr>\n",
       "    <tr>\n",
       "      <th>2156189</th>\n",
       "      <td>0.487179</td>\n",
       "      <td>0.000000</td>\n",
       "      <td>0.053349</td>\n",
       "      <td>0.00000</td>\n",
       "      <td>0.0</td>\n",
       "      <td>1.0</td>\n",
       "      <td>0.00000</td>\n",
       "      <td>0.00000</td>\n",
       "      <td>1.00000</td>\n",
       "      <td>0.0</td>\n",
       "      <td>0.011092</td>\n",
       "      <td>0.0</td>\n",
       "      <td>0.000000</td>\n",
       "      <td>1.000000</td>\n",
       "      <td>0.000000</td>\n",
       "      <td>0.0</td>\n",
       "      <td>1.000000</td>\n",
       "    </tr>\n",
       "    <tr>\n",
       "      <th>...</th>\n",
       "      <td>...</td>\n",
       "      <td>...</td>\n",
       "      <td>...</td>\n",
       "      <td>...</td>\n",
       "      <td>...</td>\n",
       "      <td>...</td>\n",
       "      <td>...</td>\n",
       "      <td>...</td>\n",
       "      <td>...</td>\n",
       "      <td>...</td>\n",
       "      <td>...</td>\n",
       "      <td>...</td>\n",
       "      <td>...</td>\n",
       "      <td>...</td>\n",
       "      <td>...</td>\n",
       "      <td>...</td>\n",
       "      <td>...</td>\n",
       "    </tr>\n",
       "    <tr>\n",
       "      <th>3982968</th>\n",
       "      <td>0.230769</td>\n",
       "      <td>0.000000</td>\n",
       "      <td>0.571560</td>\n",
       "      <td>0.00000</td>\n",
       "      <td>1.0</td>\n",
       "      <td>0.0</td>\n",
       "      <td>0.00000</td>\n",
       "      <td>0.00000</td>\n",
       "      <td>1.00000</td>\n",
       "      <td>0.0</td>\n",
       "      <td>0.003637</td>\n",
       "      <td>0.0</td>\n",
       "      <td>0.162526</td>\n",
       "      <td>0.000000</td>\n",
       "      <td>0.837474</td>\n",
       "      <td>0.0</td>\n",
       "      <td>0.555556</td>\n",
       "    </tr>\n",
       "    <tr>\n",
       "      <th>3982969</th>\n",
       "      <td>0.564103</td>\n",
       "      <td>1.000000</td>\n",
       "      <td>0.336872</td>\n",
       "      <td>0.89484</td>\n",
       "      <td>0.0</td>\n",
       "      <td>0.0</td>\n",
       "      <td>0.10516</td>\n",
       "      <td>0.89484</td>\n",
       "      <td>0.10516</td>\n",
       "      <td>0.0</td>\n",
       "      <td>0.005910</td>\n",
       "      <td>1.0</td>\n",
       "      <td>0.000000</td>\n",
       "      <td>0.000000</td>\n",
       "      <td>0.000000</td>\n",
       "      <td>0.0</td>\n",
       "      <td>1.000000</td>\n",
       "    </tr>\n",
       "    <tr>\n",
       "      <th>3982970</th>\n",
       "      <td>0.316466</td>\n",
       "      <td>0.078239</td>\n",
       "      <td>0.532609</td>\n",
       "      <td>0.00000</td>\n",
       "      <td>1.0</td>\n",
       "      <td>0.0</td>\n",
       "      <td>0.00000</td>\n",
       "      <td>0.00000</td>\n",
       "      <td>1.00000</td>\n",
       "      <td>0.0</td>\n",
       "      <td>0.003637</td>\n",
       "      <td>1.0</td>\n",
       "      <td>0.000000</td>\n",
       "      <td>0.000000</td>\n",
       "      <td>0.000000</td>\n",
       "      <td>0.0</td>\n",
       "      <td>1.000000</td>\n",
       "    </tr>\n",
       "    <tr>\n",
       "      <th>3982971</th>\n",
       "      <td>0.487179</td>\n",
       "      <td>0.000000</td>\n",
       "      <td>0.087023</td>\n",
       "      <td>0.00000</td>\n",
       "      <td>0.0</td>\n",
       "      <td>1.0</td>\n",
       "      <td>0.00000</td>\n",
       "      <td>0.00000</td>\n",
       "      <td>1.00000</td>\n",
       "      <td>0.0</td>\n",
       "      <td>0.008819</td>\n",
       "      <td>0.0</td>\n",
       "      <td>0.531344</td>\n",
       "      <td>0.468656</td>\n",
       "      <td>0.000000</td>\n",
       "      <td>0.0</td>\n",
       "      <td>1.000000</td>\n",
       "    </tr>\n",
       "    <tr>\n",
       "      <th>3982972</th>\n",
       "      <td>0.179487</td>\n",
       "      <td>0.000000</td>\n",
       "      <td>0.192124</td>\n",
       "      <td>0.00000</td>\n",
       "      <td>0.0</td>\n",
       "      <td>0.0</td>\n",
       "      <td>1.00000</td>\n",
       "      <td>0.00000</td>\n",
       "      <td>0.00000</td>\n",
       "      <td>1.0</td>\n",
       "      <td>0.002727</td>\n",
       "      <td>1.0</td>\n",
       "      <td>0.000000</td>\n",
       "      <td>0.000000</td>\n",
       "      <td>0.000000</td>\n",
       "      <td>0.0</td>\n",
       "      <td>0.433167</td>\n",
       "    </tr>\n",
       "  </tbody>\n",
       "</table>\n",
       "<p>2709910 rows × 17 columns</p>\n",
       "</div>"
      ],
      "text/plain": [
       "         loan_amnt      term  int_rate  grade_C  grade_D and Below  grade_A  \\\n",
       "2811302   0.548718  0.000000  0.376947  1.00000                0.0      0.0   \n",
       "2096270   0.247436  0.000000  0.454829  0.00000                1.0      0.0   \n",
       "96814     0.102564  0.000000  0.385903  1.00000                0.0      0.0   \n",
       "1810677   0.435897  0.000000  0.087617  0.00000                0.0      1.0   \n",
       "2156189   0.487179  0.000000  0.053349  0.00000                0.0      1.0   \n",
       "...            ...       ...       ...      ...                ...      ...   \n",
       "3982968   0.230769  0.000000  0.571560  0.00000                1.0      0.0   \n",
       "3982969   0.564103  1.000000  0.336872  0.89484                0.0      0.0   \n",
       "3982970   0.316466  0.078239  0.532609  0.00000                1.0      0.0   \n",
       "3982971   0.487179  0.000000  0.087023  0.00000                0.0      1.0   \n",
       "3982972   0.179487  0.000000  0.192124  0.00000                0.0      0.0   \n",
       "\n",
       "         grade_B  home_ownership_OWN  home_ownership_MORTGAGE  \\\n",
       "2811302  0.00000             1.00000                  0.00000   \n",
       "2096270  0.00000             0.00000                  1.00000   \n",
       "96814    0.00000             0.00000                  1.00000   \n",
       "1810677  0.00000             0.00000                  1.00000   \n",
       "2156189  0.00000             0.00000                  1.00000   \n",
       "...          ...                 ...                      ...   \n",
       "3982968  0.00000             0.00000                  1.00000   \n",
       "3982969  0.10516             0.89484                  0.10516   \n",
       "3982970  0.00000             0.00000                  1.00000   \n",
       "3982971  0.00000             0.00000                  1.00000   \n",
       "3982972  1.00000             0.00000                  0.00000   \n",
       "\n",
       "         home_ownership_RENT  annual_inc  purpose_Debt Consolidation  \\\n",
       "2811302                  0.0    0.011364                         1.0   \n",
       "2096270                  0.0    0.004728                         1.0   \n",
       "96814                    0.0    0.009364                         1.0   \n",
       "1810677                  0.0    0.007728                         0.0   \n",
       "2156189                  0.0    0.011092                         0.0   \n",
       "...                      ...         ...                         ...   \n",
       "3982968                  0.0    0.003637                         0.0   \n",
       "3982969                  0.0    0.005910                         1.0   \n",
       "3982970                  0.0    0.003637                         1.0   \n",
       "3982971                  0.0    0.008819                         0.0   \n",
       "3982972                  1.0    0.002727                         1.0   \n",
       "\n",
       "         purpose_Credit Card  purpose_Home Improvement  purpose_Other  \\\n",
       "2811302             0.000000                  0.000000       0.000000   \n",
       "2096270             0.000000                  0.000000       0.000000   \n",
       "96814               0.000000                  0.000000       0.000000   \n",
       "1810677             1.000000                  0.000000       0.000000   \n",
       "2156189             0.000000                  1.000000       0.000000   \n",
       "...                      ...                       ...            ...   \n",
       "3982968             0.162526                  0.000000       0.837474   \n",
       "3982969             0.000000                  0.000000       0.000000   \n",
       "3982970             0.000000                  0.000000       0.000000   \n",
       "3982971             0.531344                  0.468656       0.000000   \n",
       "3982972             0.000000                  0.000000       0.000000   \n",
       "\n",
       "         purpose_Major Purchase  emp_length  \n",
       "2811302                     0.0    0.000000  \n",
       "2096270                     0.0    0.000000  \n",
       "96814                       0.0    0.111111  \n",
       "1810677                     0.0    1.000000  \n",
       "2156189                     0.0    1.000000  \n",
       "...                         ...         ...  \n",
       "3982968                     0.0    0.555556  \n",
       "3982969                     0.0    1.000000  \n",
       "3982970                     0.0    1.000000  \n",
       "3982971                     0.0    1.000000  \n",
       "3982972                     0.0    0.433167  \n",
       "\n",
       "[2709910 rows x 17 columns]"
      ]
     },
     "execution_count": 24,
     "metadata": {},
     "output_type": "execute_result"
    }
   ],
   "source": [
    "get_config(\"X_train_transformed\")"
   ]
  },
  {
   "cell_type": "code",
   "execution_count": 16,
   "id": "ecc88c0d",
   "metadata": {},
   "outputs": [
    {
     "data": {
      "text/plain": [
       "0.18002257886186437"
      ]
     },
     "execution_count": 16,
     "metadata": {},
     "output_type": "execute_result"
    }
   ],
   "source": [
    "# Check if target variable is balanced or not\n",
    "df_fit[\"flag_delinq2yrs\"].mean()"
   ]
  },
  {
   "cell_type": "code",
   "execution_count": 17,
   "id": "798bfd4a",
   "metadata": {},
   "outputs": [
    {
     "data": {
      "text/html": [
       "<style type=\"text/css\">\n",
       "#T_89821_row10_col1, #T_89821_row16_col1, #T_89821_row18_col1 {\n",
       "  background-color: lightgreen;\n",
       "}\n",
       "</style>\n",
       "<table id=\"T_89821\">\n",
       "  <thead>\n",
       "    <tr>\n",
       "      <th class=\"blank level0\" >&nbsp;</th>\n",
       "      <th id=\"T_89821_level0_col0\" class=\"col_heading level0 col0\" >Description</th>\n",
       "      <th id=\"T_89821_level0_col1\" class=\"col_heading level0 col1\" >Value</th>\n",
       "    </tr>\n",
       "  </thead>\n",
       "  <tbody>\n",
       "    <tr>\n",
       "      <th id=\"T_89821_level0_row0\" class=\"row_heading level0 row0\" >0</th>\n",
       "      <td id=\"T_89821_row0_col0\" class=\"data row0 col0\" >Session id</td>\n",
       "      <td id=\"T_89821_row0_col1\" class=\"data row0 col1\" >221</td>\n",
       "    </tr>\n",
       "    <tr>\n",
       "      <th id=\"T_89821_level0_row1\" class=\"row_heading level0 row1\" >1</th>\n",
       "      <td id=\"T_89821_row1_col0\" class=\"data row1 col0\" >Target</td>\n",
       "      <td id=\"T_89821_row1_col1\" class=\"data row1 col1\" >flag_delinq2yrs</td>\n",
       "    </tr>\n",
       "    <tr>\n",
       "      <th id=\"T_89821_level0_row2\" class=\"row_heading level0 row2\" >2</th>\n",
       "      <td id=\"T_89821_row2_col0\" class=\"data row2 col0\" >Target type</td>\n",
       "      <td id=\"T_89821_row2_col1\" class=\"data row2 col1\" >Binary</td>\n",
       "    </tr>\n",
       "    <tr>\n",
       "      <th id=\"T_89821_level0_row3\" class=\"row_heading level0 row3\" >3</th>\n",
       "      <td id=\"T_89821_row3_col0\" class=\"data row3 col0\" >Original data shape</td>\n",
       "      <td id=\"T_89821_row3_col1\" class=\"data row3 col1\" >(2360615, 9)</td>\n",
       "    </tr>\n",
       "    <tr>\n",
       "      <th id=\"T_89821_level0_row4\" class=\"row_heading level0 row4\" >4</th>\n",
       "      <td id=\"T_89821_row4_col0\" class=\"data row4 col0\" >Transformed data shape</td>\n",
       "      <td id=\"T_89821_row4_col1\" class=\"data row4 col1\" >(3418095, 18)</td>\n",
       "    </tr>\n",
       "    <tr>\n",
       "      <th id=\"T_89821_level0_row5\" class=\"row_heading level0 row5\" >5</th>\n",
       "      <td id=\"T_89821_row5_col0\" class=\"data row5 col0\" >Transformed train set shape</td>\n",
       "      <td id=\"T_89821_row5_col1\" class=\"data row5 col1\" >(2709910, 18)</td>\n",
       "    </tr>\n",
       "    <tr>\n",
       "      <th id=\"T_89821_level0_row6\" class=\"row_heading level0 row6\" >6</th>\n",
       "      <td id=\"T_89821_row6_col0\" class=\"data row6 col0\" >Transformed test set shape</td>\n",
       "      <td id=\"T_89821_row6_col1\" class=\"data row6 col1\" >(708185, 18)</td>\n",
       "    </tr>\n",
       "    <tr>\n",
       "      <th id=\"T_89821_level0_row7\" class=\"row_heading level0 row7\" >7</th>\n",
       "      <td id=\"T_89821_row7_col0\" class=\"data row7 col0\" >Ordinal features</td>\n",
       "      <td id=\"T_89821_row7_col1\" class=\"data row7 col1\" >1</td>\n",
       "    </tr>\n",
       "    <tr>\n",
       "      <th id=\"T_89821_level0_row8\" class=\"row_heading level0 row8\" >8</th>\n",
       "      <td id=\"T_89821_row8_col0\" class=\"data row8 col0\" >Numeric features</td>\n",
       "      <td id=\"T_89821_row8_col1\" class=\"data row8 col1\" >4</td>\n",
       "    </tr>\n",
       "    <tr>\n",
       "      <th id=\"T_89821_level0_row9\" class=\"row_heading level0 row9\" >9</th>\n",
       "      <td id=\"T_89821_row9_col0\" class=\"data row9 col0\" >Categorical features</td>\n",
       "      <td id=\"T_89821_row9_col1\" class=\"data row9 col1\" >4</td>\n",
       "    </tr>\n",
       "    <tr>\n",
       "      <th id=\"T_89821_level0_row10\" class=\"row_heading level0 row10\" >10</th>\n",
       "      <td id=\"T_89821_row10_col0\" class=\"data row10 col0\" >Preprocess</td>\n",
       "      <td id=\"T_89821_row10_col1\" class=\"data row10 col1\" >True</td>\n",
       "    </tr>\n",
       "    <tr>\n",
       "      <th id=\"T_89821_level0_row11\" class=\"row_heading level0 row11\" >11</th>\n",
       "      <td id=\"T_89821_row11_col0\" class=\"data row11 col0\" >Imputation type</td>\n",
       "      <td id=\"T_89821_row11_col1\" class=\"data row11 col1\" >simple</td>\n",
       "    </tr>\n",
       "    <tr>\n",
       "      <th id=\"T_89821_level0_row12\" class=\"row_heading level0 row12\" >12</th>\n",
       "      <td id=\"T_89821_row12_col0\" class=\"data row12 col0\" >Numeric imputation</td>\n",
       "      <td id=\"T_89821_row12_col1\" class=\"data row12 col1\" >mean</td>\n",
       "    </tr>\n",
       "    <tr>\n",
       "      <th id=\"T_89821_level0_row13\" class=\"row_heading level0 row13\" >13</th>\n",
       "      <td id=\"T_89821_row13_col0\" class=\"data row13 col0\" >Categorical imputation</td>\n",
       "      <td id=\"T_89821_row13_col1\" class=\"data row13 col1\" >mode</td>\n",
       "    </tr>\n",
       "    <tr>\n",
       "      <th id=\"T_89821_level0_row14\" class=\"row_heading level0 row14\" >14</th>\n",
       "      <td id=\"T_89821_row14_col0\" class=\"data row14 col0\" >Maximum one-hot encoding</td>\n",
       "      <td id=\"T_89821_row14_col1\" class=\"data row14 col1\" >25</td>\n",
       "    </tr>\n",
       "    <tr>\n",
       "      <th id=\"T_89821_level0_row15\" class=\"row_heading level0 row15\" >15</th>\n",
       "      <td id=\"T_89821_row15_col0\" class=\"data row15 col0\" >Encoding method</td>\n",
       "      <td id=\"T_89821_row15_col1\" class=\"data row15 col1\" >None</td>\n",
       "    </tr>\n",
       "    <tr>\n",
       "      <th id=\"T_89821_level0_row16\" class=\"row_heading level0 row16\" >16</th>\n",
       "      <td id=\"T_89821_row16_col0\" class=\"data row16 col0\" >Fix imbalance</td>\n",
       "      <td id=\"T_89821_row16_col1\" class=\"data row16 col1\" >True</td>\n",
       "    </tr>\n",
       "    <tr>\n",
       "      <th id=\"T_89821_level0_row17\" class=\"row_heading level0 row17\" >17</th>\n",
       "      <td id=\"T_89821_row17_col0\" class=\"data row17 col0\" >Fix imbalance method</td>\n",
       "      <td id=\"T_89821_row17_col1\" class=\"data row17 col1\" >SMOTE</td>\n",
       "    </tr>\n",
       "    <tr>\n",
       "      <th id=\"T_89821_level0_row18\" class=\"row_heading level0 row18\" >18</th>\n",
       "      <td id=\"T_89821_row18_col0\" class=\"data row18 col0\" >Normalize</td>\n",
       "      <td id=\"T_89821_row18_col1\" class=\"data row18 col1\" >True</td>\n",
       "    </tr>\n",
       "    <tr>\n",
       "      <th id=\"T_89821_level0_row19\" class=\"row_heading level0 row19\" >19</th>\n",
       "      <td id=\"T_89821_row19_col0\" class=\"data row19 col0\" >Normalize method</td>\n",
       "      <td id=\"T_89821_row19_col1\" class=\"data row19 col1\" >minmax</td>\n",
       "    </tr>\n",
       "    <tr>\n",
       "      <th id=\"T_89821_level0_row20\" class=\"row_heading level0 row20\" >20</th>\n",
       "      <td id=\"T_89821_row20_col0\" class=\"data row20 col0\" >Fold Generator</td>\n",
       "      <td id=\"T_89821_row20_col1\" class=\"data row20 col1\" >StratifiedKFold</td>\n",
       "    </tr>\n",
       "    <tr>\n",
       "      <th id=\"T_89821_level0_row21\" class=\"row_heading level0 row21\" >21</th>\n",
       "      <td id=\"T_89821_row21_col0\" class=\"data row21 col0\" >Fold Number</td>\n",
       "      <td id=\"T_89821_row21_col1\" class=\"data row21 col1\" >10</td>\n",
       "    </tr>\n",
       "    <tr>\n",
       "      <th id=\"T_89821_level0_row22\" class=\"row_heading level0 row22\" >22</th>\n",
       "      <td id=\"T_89821_row22_col0\" class=\"data row22 col0\" >CPU Jobs</td>\n",
       "      <td id=\"T_89821_row22_col1\" class=\"data row22 col1\" >-1</td>\n",
       "    </tr>\n",
       "    <tr>\n",
       "      <th id=\"T_89821_level0_row23\" class=\"row_heading level0 row23\" >23</th>\n",
       "      <td id=\"T_89821_row23_col0\" class=\"data row23 col0\" >Use GPU</td>\n",
       "      <td id=\"T_89821_row23_col1\" class=\"data row23 col1\" >False</td>\n",
       "    </tr>\n",
       "    <tr>\n",
       "      <th id=\"T_89821_level0_row24\" class=\"row_heading level0 row24\" >24</th>\n",
       "      <td id=\"T_89821_row24_col0\" class=\"data row24 col0\" >Log Experiment</td>\n",
       "      <td id=\"T_89821_row24_col1\" class=\"data row24 col1\" >False</td>\n",
       "    </tr>\n",
       "    <tr>\n",
       "      <th id=\"T_89821_level0_row25\" class=\"row_heading level0 row25\" >25</th>\n",
       "      <td id=\"T_89821_row25_col0\" class=\"data row25 col0\" >Experiment Name</td>\n",
       "      <td id=\"T_89821_row25_col1\" class=\"data row25 col1\" >clf-default-name</td>\n",
       "    </tr>\n",
       "    <tr>\n",
       "      <th id=\"T_89821_level0_row26\" class=\"row_heading level0 row26\" >26</th>\n",
       "      <td id=\"T_89821_row26_col0\" class=\"data row26 col0\" >USI</td>\n",
       "      <td id=\"T_89821_row26_col1\" class=\"data row26 col1\" >25c0</td>\n",
       "    </tr>\n",
       "  </tbody>\n",
       "</table>\n"
      ],
      "text/plain": [
       "<pandas.io.formats.style.Styler at 0x15980a06b20>"
      ]
     },
     "metadata": {},
     "output_type": "display_data"
    }
   ],
   "source": [
    "supervised_setup = setup(\n",
    "    df_fit, \n",
    "    target = 'flag_delinq2yrs', \n",
    "    categorical_features = [\"term\", \"grade\", \"home_ownership\", \"purpose\"], \n",
    "    normalize = True,\n",
    "    normalize_method = \"minmax\",\n",
    "    fix_imbalance = True,\n",
    "    session_id = 221\n",
    ")"
   ]
  },
  {
   "cell_type": "markdown",
   "id": "030db3a3",
   "metadata": {},
   "source": [
    "### III. Supervised Learning - Training"
   ]
  },
  {
   "cell_type": "code",
   "execution_count": 19,
   "id": "2e8c1fd3",
   "metadata": {},
   "outputs": [
    {
     "data": {
      "text/html": [],
      "text/plain": [
       "<IPython.core.display.HTML object>"
      ]
     },
     "metadata": {},
     "output_type": "display_data"
    },
    {
     "data": {
      "text/html": [
       "<style type=\"text/css\">\n",
       "#T_a7e89 th {\n",
       "  text-align: left;\n",
       "}\n",
       "#T_a7e89_row0_col0, #T_a7e89_row0_col3, #T_a7e89_row0_col5, #T_a7e89_row0_col6, #T_a7e89_row0_col7, #T_a7e89_row1_col0, #T_a7e89_row1_col1, #T_a7e89_row1_col2, #T_a7e89_row1_col3, #T_a7e89_row1_col4, #T_a7e89_row1_col5, #T_a7e89_row1_col6, #T_a7e89_row1_col7, #T_a7e89_row2_col0, #T_a7e89_row2_col1, #T_a7e89_row2_col2, #T_a7e89_row2_col4, #T_a7e89_row3_col0, #T_a7e89_row3_col1, #T_a7e89_row3_col2, #T_a7e89_row3_col3, #T_a7e89_row3_col4, #T_a7e89_row3_col5, #T_a7e89_row3_col6, #T_a7e89_row3_col7, #T_a7e89_row4_col0, #T_a7e89_row4_col1, #T_a7e89_row4_col2, #T_a7e89_row4_col3, #T_a7e89_row4_col4, #T_a7e89_row4_col5, #T_a7e89_row4_col6, #T_a7e89_row4_col7 {\n",
       "  text-align: left;\n",
       "}\n",
       "#T_a7e89_row0_col1, #T_a7e89_row0_col2, #T_a7e89_row0_col4, #T_a7e89_row2_col3, #T_a7e89_row2_col5, #T_a7e89_row2_col6, #T_a7e89_row2_col7 {\n",
       "  text-align: left;\n",
       "  background-color: yellow;\n",
       "}\n",
       "#T_a7e89_row0_col8, #T_a7e89_row1_col8, #T_a7e89_row2_col8, #T_a7e89_row3_col8 {\n",
       "  text-align: left;\n",
       "  background-color: lightgrey;\n",
       "}\n",
       "#T_a7e89_row4_col8 {\n",
       "  text-align: left;\n",
       "  background-color: yellow;\n",
       "  background-color: lightgrey;\n",
       "}\n",
       "</style>\n",
       "<table id=\"T_a7e89\">\n",
       "  <thead>\n",
       "    <tr>\n",
       "      <th class=\"blank level0\" >&nbsp;</th>\n",
       "      <th id=\"T_a7e89_level0_col0\" class=\"col_heading level0 col0\" >Model</th>\n",
       "      <th id=\"T_a7e89_level0_col1\" class=\"col_heading level0 col1\" >Accuracy</th>\n",
       "      <th id=\"T_a7e89_level0_col2\" class=\"col_heading level0 col2\" >AUC</th>\n",
       "      <th id=\"T_a7e89_level0_col3\" class=\"col_heading level0 col3\" >Recall</th>\n",
       "      <th id=\"T_a7e89_level0_col4\" class=\"col_heading level0 col4\" >Prec.</th>\n",
       "      <th id=\"T_a7e89_level0_col5\" class=\"col_heading level0 col5\" >F1</th>\n",
       "      <th id=\"T_a7e89_level0_col6\" class=\"col_heading level0 col6\" >Kappa</th>\n",
       "      <th id=\"T_a7e89_level0_col7\" class=\"col_heading level0 col7\" >MCC</th>\n",
       "      <th id=\"T_a7e89_level0_col8\" class=\"col_heading level0 col8\" >TT (Sec)</th>\n",
       "    </tr>\n",
       "  </thead>\n",
       "  <tbody>\n",
       "    <tr>\n",
       "      <th id=\"T_a7e89_level0_row0\" class=\"row_heading level0 row0\" >xgboost</th>\n",
       "      <td id=\"T_a7e89_row0_col0\" class=\"data row0 col0\" >Extreme Gradient Boosting</td>\n",
       "      <td id=\"T_a7e89_row0_col1\" class=\"data row0 col1\" >0.8158</td>\n",
       "      <td id=\"T_a7e89_row0_col2\" class=\"data row0 col2\" >0.6238</td>\n",
       "      <td id=\"T_a7e89_row0_col3\" class=\"data row0 col3\" >0.0188</td>\n",
       "      <td id=\"T_a7e89_row0_col4\" class=\"data row0 col4\" >0.3076</td>\n",
       "      <td id=\"T_a7e89_row0_col5\" class=\"data row0 col5\" >0.0354</td>\n",
       "      <td id=\"T_a7e89_row0_col6\" class=\"data row0 col6\" >0.0150</td>\n",
       "      <td id=\"T_a7e89_row0_col7\" class=\"data row0 col7\" >0.0350</td>\n",
       "      <td id=\"T_a7e89_row0_col8\" class=\"data row0 col8\" >154.2620</td>\n",
       "    </tr>\n",
       "    <tr>\n",
       "      <th id=\"T_a7e89_level0_row1\" class=\"row_heading level0 row1\" >rf</th>\n",
       "      <td id=\"T_a7e89_row1_col0\" class=\"data row1 col0\" >Random Forest Classifier</td>\n",
       "      <td id=\"T_a7e89_row1_col1\" class=\"data row1 col1\" >0.7791</td>\n",
       "      <td id=\"T_a7e89_row1_col2\" class=\"data row1 col2\" >0.5722</td>\n",
       "      <td id=\"T_a7e89_row1_col3\" class=\"data row1 col3\" >0.1002</td>\n",
       "      <td id=\"T_a7e89_row1_col4\" class=\"data row1 col4\" >0.2343</td>\n",
       "      <td id=\"T_a7e89_row1_col5\" class=\"data row1 col5\" >0.1404</td>\n",
       "      <td id=\"T_a7e89_row1_col6\" class=\"data row1 col6\" >0.0365</td>\n",
       "      <td id=\"T_a7e89_row1_col7\" class=\"data row1 col7\" >0.0408</td>\n",
       "      <td id=\"T_a7e89_row1_col8\" class=\"data row1 col8\" >256.1000</td>\n",
       "    </tr>\n",
       "    <tr>\n",
       "      <th id=\"T_a7e89_level0_row2\" class=\"row_heading level0 row2\" >lr</th>\n",
       "      <td id=\"T_a7e89_row2_col0\" class=\"data row2 col0\" >Logistic Regression</td>\n",
       "      <td id=\"T_a7e89_row2_col1\" class=\"data row2 col1\" >0.5633</td>\n",
       "      <td id=\"T_a7e89_row2_col2\" class=\"data row2 col2\" >0.6127</td>\n",
       "      <td id=\"T_a7e89_row2_col3\" class=\"data row2 col3\" >0.6073</td>\n",
       "      <td id=\"T_a7e89_row2_col4\" class=\"data row2 col4\" >0.2300</td>\n",
       "      <td id=\"T_a7e89_row2_col5\" class=\"data row2 col5\" >0.3336</td>\n",
       "      <td id=\"T_a7e89_row2_col6\" class=\"data row2 col6\" >0.0981</td>\n",
       "      <td id=\"T_a7e89_row2_col7\" class=\"data row2 col7\" >0.1238</td>\n",
       "      <td id=\"T_a7e89_row2_col8\" class=\"data row2 col8\" >74.2810</td>\n",
       "    </tr>\n",
       "    <tr>\n",
       "      <th id=\"T_a7e89_level0_row3\" class=\"row_heading level0 row3\" >ridge</th>\n",
       "      <td id=\"T_a7e89_row3_col0\" class=\"data row3 col0\" >Ridge Classifier</td>\n",
       "      <td id=\"T_a7e89_row3_col1\" class=\"data row3 col1\" >0.5583</td>\n",
       "      <td id=\"T_a7e89_row3_col2\" class=\"data row3 col2\" >0.0000</td>\n",
       "      <td id=\"T_a7e89_row3_col3\" class=\"data row3 col3\" >0.6058</td>\n",
       "      <td id=\"T_a7e89_row3_col4\" class=\"data row3 col4\" >0.2273</td>\n",
       "      <td id=\"T_a7e89_row3_col5\" class=\"data row3 col5\" >0.3306</td>\n",
       "      <td id=\"T_a7e89_row3_col6\" class=\"data row3 col6\" >0.0931</td>\n",
       "      <td id=\"T_a7e89_row3_col7\" class=\"data row3 col7\" >0.1182</td>\n",
       "      <td id=\"T_a7e89_row3_col8\" class=\"data row3 col8\" >42.2630</td>\n",
       "    </tr>\n",
       "    <tr>\n",
       "      <th id=\"T_a7e89_level0_row4\" class=\"row_heading level0 row4\" >lda</th>\n",
       "      <td id=\"T_a7e89_row4_col0\" class=\"data row4 col0\" >Linear Discriminant Analysis</td>\n",
       "      <td id=\"T_a7e89_row4_col1\" class=\"data row4 col1\" >0.5583</td>\n",
       "      <td id=\"T_a7e89_row4_col2\" class=\"data row4 col2\" >0.6073</td>\n",
       "      <td id=\"T_a7e89_row4_col3\" class=\"data row4 col3\" >0.6056</td>\n",
       "      <td id=\"T_a7e89_row4_col4\" class=\"data row4 col4\" >0.2273</td>\n",
       "      <td id=\"T_a7e89_row4_col5\" class=\"data row4 col5\" >0.3305</td>\n",
       "      <td id=\"T_a7e89_row4_col6\" class=\"data row4 col6\" >0.0931</td>\n",
       "      <td id=\"T_a7e89_row4_col7\" class=\"data row4 col7\" >0.1181</td>\n",
       "      <td id=\"T_a7e89_row4_col8\" class=\"data row4 col8\" >39.1790</td>\n",
       "    </tr>\n",
       "  </tbody>\n",
       "</table>\n"
      ],
      "text/plain": [
       "<pandas.io.formats.style.Styler at 0x21e51004940>"
      ]
     },
     "metadata": {},
     "output_type": "display_data"
    },
    {
     "data": {
      "application/vnd.jupyter.widget-view+json": {
       "model_id": "",
       "version_major": 2,
       "version_minor": 0
      },
      "text/plain": [
       "Processing:   0%|          | 0/25 [00:00<?, ?it/s]"
      ]
     },
     "metadata": {},
     "output_type": "display_data"
    }
   ],
   "source": [
    "supervised_models = compare_models(include = [\"lr\", \"ridge\", \"lda\", \"xgboost\", \"rf\"], sort = \"Accuracy\")"
   ]
  },
  {
   "cell_type": "code",
   "execution_count": 20,
   "id": "c03d13c4",
   "metadata": {},
   "outputs": [],
   "source": [
    "save_compare_models = pull()\n",
    "save_compare_models.reset_index().to_csv(\"table_compare_supervised_models.csv\", index=False)"
   ]
  },
  {
   "cell_type": "code",
   "execution_count": 22,
   "id": "8bba0b1a",
   "metadata": {},
   "outputs": [
    {
     "name": "stdout",
     "output_type": "stream",
     "text": [
      "XGBClassifier(base_score=0.5, booster='gbtree', colsample_bylevel=1,\n",
      "              colsample_bynode=1, colsample_bytree=1, enable_categorical=False,\n",
      "              gamma=0, gpu_id=-1, importance_type=None,\n",
      "              interaction_constraints='', learning_rate=0.300000012,\n",
      "              max_delta_step=0, max_depth=6, min_child_weight=1, missing=nan,\n",
      "              monotone_constraints='()', n_estimators=100, n_jobs=-1,\n",
      "              num_parallel_tree=1, objective='binary:logistic',\n",
      "              predictor='auto', random_state=221, reg_alpha=0, reg_lambda=1,\n",
      "              scale_pos_weight=1, subsample=1, tree_method='auto',\n",
      "              use_label_encoder=True, validate_parameters=1, verbosity=0)\n"
     ]
    }
   ],
   "source": [
    "print(supervised_models)"
   ]
  },
  {
   "cell_type": "code",
   "execution_count": 23,
   "id": "016d218e",
   "metadata": {},
   "outputs": [
    {
     "data": {
      "text/html": [],
      "text/plain": [
       "<IPython.core.display.HTML object>"
      ]
     },
     "metadata": {},
     "output_type": "display_data"
    },
    {
     "data": {
      "text/html": [
       "<style type=\"text/css\">\n",
       "#T_85ddd_row10_col0, #T_85ddd_row10_col1, #T_85ddd_row10_col2, #T_85ddd_row10_col3, #T_85ddd_row10_col4, #T_85ddd_row10_col5, #T_85ddd_row10_col6 {\n",
       "  background: yellow;\n",
       "}\n",
       "</style>\n",
       "<table id=\"T_85ddd\">\n",
       "  <thead>\n",
       "    <tr>\n",
       "      <th class=\"blank level0\" >&nbsp;</th>\n",
       "      <th id=\"T_85ddd_level0_col0\" class=\"col_heading level0 col0\" >Accuracy</th>\n",
       "      <th id=\"T_85ddd_level0_col1\" class=\"col_heading level0 col1\" >AUC</th>\n",
       "      <th id=\"T_85ddd_level0_col2\" class=\"col_heading level0 col2\" >Recall</th>\n",
       "      <th id=\"T_85ddd_level0_col3\" class=\"col_heading level0 col3\" >Prec.</th>\n",
       "      <th id=\"T_85ddd_level0_col4\" class=\"col_heading level0 col4\" >F1</th>\n",
       "      <th id=\"T_85ddd_level0_col5\" class=\"col_heading level0 col5\" >Kappa</th>\n",
       "      <th id=\"T_85ddd_level0_col6\" class=\"col_heading level0 col6\" >MCC</th>\n",
       "    </tr>\n",
       "    <tr>\n",
       "      <th class=\"index_name level0\" >Fold</th>\n",
       "      <th class=\"blank col0\" >&nbsp;</th>\n",
       "      <th class=\"blank col1\" >&nbsp;</th>\n",
       "      <th class=\"blank col2\" >&nbsp;</th>\n",
       "      <th class=\"blank col3\" >&nbsp;</th>\n",
       "      <th class=\"blank col4\" >&nbsp;</th>\n",
       "      <th class=\"blank col5\" >&nbsp;</th>\n",
       "      <th class=\"blank col6\" >&nbsp;</th>\n",
       "    </tr>\n",
       "  </thead>\n",
       "  <tbody>\n",
       "    <tr>\n",
       "      <th id=\"T_85ddd_level0_row0\" class=\"row_heading level0 row0\" >0</th>\n",
       "      <td id=\"T_85ddd_row0_col0\" class=\"data row0 col0\" >0.8160</td>\n",
       "      <td id=\"T_85ddd_row0_col1\" class=\"data row0 col1\" >0.6239</td>\n",
       "      <td id=\"T_85ddd_row0_col2\" class=\"data row0 col2\" >0.0180</td>\n",
       "      <td id=\"T_85ddd_row0_col3\" class=\"data row0 col3\" >0.3107</td>\n",
       "      <td id=\"T_85ddd_row0_col4\" class=\"data row0 col4\" >0.0341</td>\n",
       "      <td id=\"T_85ddd_row0_col5\" class=\"data row0 col5\" >0.0146</td>\n",
       "      <td id=\"T_85ddd_row0_col6\" class=\"data row0 col6\" >0.0349</td>\n",
       "    </tr>\n",
       "    <tr>\n",
       "      <th id=\"T_85ddd_level0_row1\" class=\"row_heading level0 row1\" >1</th>\n",
       "      <td id=\"T_85ddd_row1_col0\" class=\"data row1 col0\" >0.8155</td>\n",
       "      <td id=\"T_85ddd_row1_col1\" class=\"data row1 col1\" >0.6218</td>\n",
       "      <td id=\"T_85ddd_row1_col2\" class=\"data row1 col2\" >0.0191</td>\n",
       "      <td id=\"T_85ddd_row1_col3\" class=\"data row1 col3\" >0.3029</td>\n",
       "      <td id=\"T_85ddd_row1_col4\" class=\"data row1 col4\" >0.0359</td>\n",
       "      <td id=\"T_85ddd_row1_col5\" class=\"data row1 col5\" >0.0149</td>\n",
       "      <td id=\"T_85ddd_row1_col6\" class=\"data row1 col6\" >0.0342</td>\n",
       "    </tr>\n",
       "    <tr>\n",
       "      <th id=\"T_85ddd_level0_row2\" class=\"row_heading level0 row2\" >2</th>\n",
       "      <td id=\"T_85ddd_row2_col0\" class=\"data row2 col0\" >0.8163</td>\n",
       "      <td id=\"T_85ddd_row2_col1\" class=\"data row2 col1\" >0.6247</td>\n",
       "      <td id=\"T_85ddd_row2_col2\" class=\"data row2 col2\" >0.0186</td>\n",
       "      <td id=\"T_85ddd_row2_col3\" class=\"data row2 col3\" >0.3236</td>\n",
       "      <td id=\"T_85ddd_row2_col4\" class=\"data row2 col4\" >0.0352</td>\n",
       "      <td id=\"T_85ddd_row2_col5\" class=\"data row2 col5\" >0.0159</td>\n",
       "      <td id=\"T_85ddd_row2_col6\" class=\"data row2 col6\" >0.0382</td>\n",
       "    </tr>\n",
       "    <tr>\n",
       "      <th id=\"T_85ddd_level0_row3\" class=\"row_heading level0 row3\" >3</th>\n",
       "      <td id=\"T_85ddd_row3_col0\" class=\"data row3 col0\" >0.8158</td>\n",
       "      <td id=\"T_85ddd_row3_col1\" class=\"data row3 col1\" >0.6210</td>\n",
       "      <td id=\"T_85ddd_row3_col2\" class=\"data row3 col2\" >0.0206</td>\n",
       "      <td id=\"T_85ddd_row3_col3\" class=\"data row3 col3\" >0.3196</td>\n",
       "      <td id=\"T_85ddd_row3_col4\" class=\"data row3 col4\" >0.0387</td>\n",
       "      <td id=\"T_85ddd_row3_col5\" class=\"data row3 col5\" >0.0173</td>\n",
       "      <td id=\"T_85ddd_row3_col6\" class=\"data row3 col6\" >0.0393</td>\n",
       "    </tr>\n",
       "    <tr>\n",
       "      <th id=\"T_85ddd_level0_row4\" class=\"row_heading level0 row4\" >4</th>\n",
       "      <td id=\"T_85ddd_row4_col0\" class=\"data row4 col0\" >0.8160</td>\n",
       "      <td id=\"T_85ddd_row4_col1\" class=\"data row4 col1\" >0.6239</td>\n",
       "      <td id=\"T_85ddd_row4_col2\" class=\"data row4 col2\" >0.0195</td>\n",
       "      <td id=\"T_85ddd_row4_col3\" class=\"data row4 col3\" >0.3180</td>\n",
       "      <td id=\"T_85ddd_row4_col4\" class=\"data row4 col4\" >0.0368</td>\n",
       "      <td id=\"T_85ddd_row4_col5\" class=\"data row4 col5\" >0.0163</td>\n",
       "      <td id=\"T_85ddd_row4_col6\" class=\"data row4 col6\" >0.0380</td>\n",
       "    </tr>\n",
       "    <tr>\n",
       "      <th id=\"T_85ddd_level0_row5\" class=\"row_heading level0 row5\" >5</th>\n",
       "      <td id=\"T_85ddd_row5_col0\" class=\"data row5 col0\" >0.8155</td>\n",
       "      <td id=\"T_85ddd_row5_col1\" class=\"data row5 col1\" >0.6250</td>\n",
       "      <td id=\"T_85ddd_row5_col2\" class=\"data row5 col2\" >0.0204</td>\n",
       "      <td id=\"T_85ddd_row5_col3\" class=\"data row5 col3\" >0.3097</td>\n",
       "      <td id=\"T_85ddd_row5_col4\" class=\"data row5 col4\" >0.0383</td>\n",
       "      <td id=\"T_85ddd_row5_col5\" class=\"data row5 col5\" >0.0164</td>\n",
       "      <td id=\"T_85ddd_row5_col6\" class=\"data row5 col6\" >0.0370</td>\n",
       "    </tr>\n",
       "    <tr>\n",
       "      <th id=\"T_85ddd_level0_row6\" class=\"row_heading level0 row6\" >6</th>\n",
       "      <td id=\"T_85ddd_row6_col0\" class=\"data row6 col0\" >0.8153</td>\n",
       "      <td id=\"T_85ddd_row6_col1\" class=\"data row6 col1\" >0.6265</td>\n",
       "      <td id=\"T_85ddd_row6_col2\" class=\"data row6 col2\" >0.0191</td>\n",
       "      <td id=\"T_85ddd_row6_col3\" class=\"data row6 col3\" >0.2980</td>\n",
       "      <td id=\"T_85ddd_row6_col4\" class=\"data row6 col4\" >0.0358</td>\n",
       "      <td id=\"T_85ddd_row6_col5\" class=\"data row6 col5\" >0.0145</td>\n",
       "      <td id=\"T_85ddd_row6_col6\" class=\"data row6 col6\" >0.0331</td>\n",
       "    </tr>\n",
       "    <tr>\n",
       "      <th id=\"T_85ddd_level0_row7\" class=\"row_heading level0 row7\" >7</th>\n",
       "      <td id=\"T_85ddd_row7_col0\" class=\"data row7 col0\" >0.8161</td>\n",
       "      <td id=\"T_85ddd_row7_col1\" class=\"data row7 col1\" >0.6251</td>\n",
       "      <td id=\"T_85ddd_row7_col2\" class=\"data row7 col2\" >0.0161</td>\n",
       "      <td id=\"T_85ddd_row7_col3\" class=\"data row7 col3\" >0.2987</td>\n",
       "      <td id=\"T_85ddd_row7_col4\" class=\"data row7 col4\" >0.0306</td>\n",
       "      <td id=\"T_85ddd_row7_col5\" class=\"data row7 col5\" >0.0124</td>\n",
       "      <td id=\"T_85ddd_row7_col6\" class=\"data row7 col6\" >0.0306</td>\n",
       "    </tr>\n",
       "    <tr>\n",
       "      <th id=\"T_85ddd_level0_row8\" class=\"row_heading level0 row8\" >8</th>\n",
       "      <td id=\"T_85ddd_row8_col0\" class=\"data row8 col0\" >0.8169</td>\n",
       "      <td id=\"T_85ddd_row8_col1\" class=\"data row8 col1\" >0.6234</td>\n",
       "      <td id=\"T_85ddd_row8_col2\" class=\"data row8 col2\" >0.0169</td>\n",
       "      <td id=\"T_85ddd_row8_col3\" class=\"data row8 col3\" >0.3318</td>\n",
       "      <td id=\"T_85ddd_row8_col4\" class=\"data row8 col4\" >0.0321</td>\n",
       "      <td id=\"T_85ddd_row8_col5\" class=\"data row8 col5\" >0.0150</td>\n",
       "      <td id=\"T_85ddd_row8_col6\" class=\"data row8 col6\" >0.0380</td>\n",
       "    </tr>\n",
       "    <tr>\n",
       "      <th id=\"T_85ddd_level0_row9\" class=\"row_heading level0 row9\" >9</th>\n",
       "      <td id=\"T_85ddd_row9_col0\" class=\"data row9 col0\" >0.8154</td>\n",
       "      <td id=\"T_85ddd_row9_col1\" class=\"data row9 col1\" >0.6245</td>\n",
       "      <td id=\"T_85ddd_row9_col2\" class=\"data row9 col2\" >0.0186</td>\n",
       "      <td id=\"T_85ddd_row9_col3\" class=\"data row9 col3\" >0.2983</td>\n",
       "      <td id=\"T_85ddd_row9_col4\" class=\"data row9 col4\" >0.0350</td>\n",
       "      <td id=\"T_85ddd_row9_col5\" class=\"data row9 col5\" >0.0142</td>\n",
       "      <td id=\"T_85ddd_row9_col6\" class=\"data row9 col6\" >0.0328</td>\n",
       "    </tr>\n",
       "    <tr>\n",
       "      <th id=\"T_85ddd_level0_row10\" class=\"row_heading level0 row10\" >Mean</th>\n",
       "      <td id=\"T_85ddd_row10_col0\" class=\"data row10 col0\" >0.8159</td>\n",
       "      <td id=\"T_85ddd_row10_col1\" class=\"data row10 col1\" >0.6240</td>\n",
       "      <td id=\"T_85ddd_row10_col2\" class=\"data row10 col2\" >0.0187</td>\n",
       "      <td id=\"T_85ddd_row10_col3\" class=\"data row10 col3\" >0.3111</td>\n",
       "      <td id=\"T_85ddd_row10_col4\" class=\"data row10 col4\" >0.0353</td>\n",
       "      <td id=\"T_85ddd_row10_col5\" class=\"data row10 col5\" >0.0151</td>\n",
       "      <td id=\"T_85ddd_row10_col6\" class=\"data row10 col6\" >0.0356</td>\n",
       "    </tr>\n",
       "    <tr>\n",
       "      <th id=\"T_85ddd_level0_row11\" class=\"row_heading level0 row11\" >Std</th>\n",
       "      <td id=\"T_85ddd_row11_col0\" class=\"data row11 col0\" >0.0005</td>\n",
       "      <td id=\"T_85ddd_row11_col1\" class=\"data row11 col1\" >0.0015</td>\n",
       "      <td id=\"T_85ddd_row11_col2\" class=\"data row11 col2\" >0.0013</td>\n",
       "      <td id=\"T_85ddd_row11_col3\" class=\"data row11 col3\" >0.0112</td>\n",
       "      <td id=\"T_85ddd_row11_col4\" class=\"data row11 col4\" >0.0024</td>\n",
       "      <td id=\"T_85ddd_row11_col5\" class=\"data row11 col5\" >0.0013</td>\n",
       "      <td id=\"T_85ddd_row11_col6\" class=\"data row11 col6\" >0.0027</td>\n",
       "    </tr>\n",
       "  </tbody>\n",
       "</table>\n"
      ],
      "text/plain": [
       "<pandas.io.formats.style.Styler at 0x21e50e31a60>"
      ]
     },
     "metadata": {},
     "output_type": "display_data"
    },
    {
     "data": {
      "application/vnd.jupyter.widget-view+json": {
       "model_id": "",
       "version_major": 2,
       "version_minor": 0
      },
      "text/plain": [
       "Processing:   0%|          | 0/4 [00:00<?, ?it/s]"
      ]
     },
     "metadata": {},
     "output_type": "display_data"
    }
   ],
   "source": [
    "xgb = create_model(\"xgboost\")"
   ]
  },
  {
   "cell_type": "code",
   "execution_count": 26,
   "id": "ee5c33fe",
   "metadata": {},
   "outputs": [
    {
     "name": "stdout",
     "output_type": "stream",
     "text": [
      "Transformation Pipeline and Model Successfully Saved\n",
      "XGBClassifier(base_score=0.5, booster='gbtree', colsample_bylevel=1,\n",
      "              colsample_bynode=1, colsample_bytree=1, enable_categorical=False,\n",
      "              gamma=0, gpu_id=-1, importance_type=None,\n",
      "              interaction_constraints='', learning_rate=0.300000012,\n",
      "              max_delta_step=0, max_depth=6, min_child_weight=1, missing=nan,\n",
      "              monotone_constraints='()', n_estimators=100, n_jobs=-1,\n",
      "              num_parallel_tree=1, objective='binary:logistic',\n",
      "              predictor='auto', random_state=221, reg_alpha=0, reg_lambda=1,\n",
      "              scale_pos_weight=1, subsample=1, tree_method='auto',\n",
      "              use_label_encoder=True, validate_parameters=1, verbosity=0)\n"
     ]
    }
   ],
   "source": [
    "save_model(xgb, 'xgb_model')\n",
    "print(xgb)"
   ]
  },
  {
   "cell_type": "code",
   "execution_count": 18,
   "id": "25e03ff5",
   "metadata": {},
   "outputs": [
    {
     "name": "stdout",
     "output_type": "stream",
     "text": [
      "Transformation Pipeline and Model Successfully Loaded\n"
     ]
    }
   ],
   "source": [
    "xgb = load_model(\"xgb_model\")"
   ]
  },
  {
   "cell_type": "markdown",
   "id": "1da88928",
   "metadata": {},
   "source": [
    "### IV. Supervised Learning - Performance Metrics"
   ]
  },
  {
   "cell_type": "code",
   "execution_count": 19,
   "id": "e08355c7",
   "metadata": {},
   "outputs": [
    {
     "data": {
      "application/vnd.jupyter.widget-view+json": {
       "model_id": "0605269acf9d448290fc7612b49e0151",
       "version_major": 2,
       "version_minor": 0
      },
      "text/plain": [
       "interactive(children=(ToggleButtons(description='Plot Type:', icons=('',), options=(('Pipeline Plot', 'pipelin…"
      ]
     },
     "metadata": {},
     "output_type": "display_data"
    }
   ],
   "source": [
    "evaluate_model(xgb)"
   ]
  },
  {
   "cell_type": "code",
   "execution_count": 20,
   "id": "a9fa6451",
   "metadata": {},
   "outputs": [
    {
     "data": {
      "application/vnd.jupyter.widget-view+json": {
       "model_id": "c3fb0fa1fc9f4feaaa58fdcdd118ca0a",
       "version_major": 2,
       "version_minor": 0
      },
      "text/plain": [
       "interactive(children=(ToggleButtons(description='Plot Type:', icons=('',), options=(('Pipeline Plot', 'pipelin…"
      ]
     },
     "metadata": {},
     "output_type": "display_data"
    }
   ],
   "source": [
    "evaluate_model(xgb)"
   ]
  },
  {
   "cell_type": "code",
   "execution_count": 21,
   "id": "dde9d734",
   "metadata": {},
   "outputs": [
    {
     "data": {
      "application/vnd.jupyter.widget-view+json": {
       "model_id": "48f8d90925634888919d71b198c0a522",
       "version_major": 2,
       "version_minor": 0
      },
      "text/plain": [
       "interactive(children=(ToggleButtons(description='Plot Type:', icons=('',), options=(('Pipeline Plot', 'pipelin…"
      ]
     },
     "metadata": {},
     "output_type": "display_data"
    }
   ],
   "source": [
    "evaluate_model(xgb)"
   ]
  },
  {
   "cell_type": "code",
   "execution_count": 22,
   "id": "cc6c4afc",
   "metadata": {},
   "outputs": [
    {
     "data": {
      "application/vnd.jupyter.widget-view+json": {
       "model_id": "3b2ff6988cec44c086f8455acc6fa4ae",
       "version_major": 2,
       "version_minor": 0
      },
      "text/plain": [
       "interactive(children=(ToggleButtons(description='Plot Type:', icons=('',), options=(('Pipeline Plot', 'pipelin…"
      ]
     },
     "metadata": {},
     "output_type": "display_data"
    }
   ],
   "source": [
    "evaluate_model(xgb)"
   ]
  },
  {
   "cell_type": "code",
   "execution_count": 23,
   "id": "6991606f",
   "metadata": {},
   "outputs": [
    {
     "data": {
      "application/vnd.jupyter.widget-view+json": {
       "model_id": "10c2484e7a0c42aa82b20b40885ee999",
       "version_major": 2,
       "version_minor": 0
      },
      "text/plain": [
       "interactive(children=(ToggleButtons(description='Plot Type:', icons=('',), options=(('Pipeline Plot', 'pipelin…"
      ]
     },
     "metadata": {},
     "output_type": "display_data"
    }
   ],
   "source": [
    "evaluate_model(xgb)"
   ]
  },
  {
   "cell_type": "markdown",
   "id": "30e28006",
   "metadata": {},
   "source": [
    "### V. Supervised Learning - Hyperparameter Tuning"
   ]
  },
  {
   "cell_type": "code",
   "execution_count": 25,
   "id": "e2e8139a",
   "metadata": {},
   "outputs": [],
   "source": [
    "#tuned_xgb = tune_model(xgb)"
   ]
  },
  {
   "cell_type": "code",
   "execution_count": null,
   "id": "4a0fd4a7",
   "metadata": {},
   "outputs": [],
   "source": [
    "#save_model(tuned_xgb, 'tuned_xgb_model')\n",
    "#print(tuned_xgb)"
   ]
  },
  {
   "cell_type": "code",
   "execution_count": null,
   "id": "33b276b2",
   "metadata": {},
   "outputs": [],
   "source": [
    "#evaluate_model(tuned_xgb)"
   ]
  },
  {
   "cell_type": "code",
   "execution_count": null,
   "id": "e7ef8388",
   "metadata": {},
   "outputs": [],
   "source": [
    "#evaluate_model(tuned_xgb)"
   ]
  }
 ],
 "metadata": {
  "kernelspec": {
   "display_name": "env_221_300",
   "language": "python",
   "name": "env_221_300"
  },
  "language_info": {
   "codemirror_mode": {
    "name": "ipython",
    "version": 3
   },
   "file_extension": ".py",
   "mimetype": "text/x-python",
   "name": "python",
   "nbconvert_exporter": "python",
   "pygments_lexer": "ipython3",
   "version": "3.9.7"
  }
 },
 "nbformat": 4,
 "nbformat_minor": 5
}
